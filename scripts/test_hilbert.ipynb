{
 "cells": [
  {
   "cell_type": "code",
   "execution_count": 1,
   "id": "062392e7-634c-4461-9d0f-a8d599cfe4e8",
   "metadata": {},
   "outputs": [
    {
     "name": "stdout",
     "output_type": "stream",
     "text": [
      "/root/data2/jaehyeok/dev/ddpm\n"
     ]
    }
   ],
   "source": [
    "%load_ext lab_black\n",
    "%cd .."
   ]
  },
  {
   "cell_type": "code",
   "execution_count": 2,
   "id": "3a4fc6a5-570f-4787-a3f3-b32b4851dcd3",
   "metadata": {},
   "outputs": [],
   "source": [
    "import numpy as np\n",
    "import torch as th\n",
    "\n",
    "from hilbertcurve.hilbertcurve import HilbertCurve"
   ]
  },
  {
   "cell_type": "code",
   "execution_count": 3,
   "id": "f0982d8c-a678-424c-8aaf-6c311c7d5b34",
   "metadata": {},
   "outputs": [],
   "source": [
    "th.cuda.set_device(9)"
   ]
  },
  {
   "cell_type": "code",
   "execution_count": 4,
   "id": "623579da-0b0b-4350-bcd0-3b3068e26863",
   "metadata": {},
   "outputs": [],
   "source": [
    "hc = HilbertCurve(p=16, n=3)"
   ]
  },
  {
   "cell_type": "code",
   "execution_count": 18,
   "id": "ef81ce72-cd1e-409d-afec-1f7df36e8e54",
   "metadata": {},
   "outputs": [],
   "source": [
    "xyz = th.rand(16, 3, device=\"cuda\") * 2 - 1\n",
    "grid_size = 2**16"
   ]
  },
  {
   "cell_type": "markdown",
   "id": "f5e61db7-5470-4d95-8dfb-45847d9b17a5",
   "metadata": {},
   "source": [
    "---"
   ]
  },
  {
   "cell_type": "code",
   "execution_count": 15,
   "id": "7c2396f3-f98b-42b5-8e6e-a5c4c3e66207",
   "metadata": {},
   "outputs": [],
   "source": [
    "from typing import Tuple\n",
    "\n",
    "import torch as th\n",
    "import triton\n",
    "import triton.language as tl\n",
    "from torchtyping import TensorType\n",
    "\n",
    "\n",
    "@triton.autotune(\n",
    "    configs=[\n",
    "        triton.Config({\"BLOCK_SIZE\": 32}),\n",
    "        triton.Config({\"BLOCK_SIZE\": 64}),\n",
    "        triton.Config({\"BLOCK_SIZE\": 128}),\n",
    "        triton.Config({\"BLOCK_SIZE\": 256}),\n",
    "        triton.Config({\"BLOCK_SIZE\": 512}),\n",
    "        triton.Config({\"BLOCK_SIZE\": 1024}),\n",
    "    ],\n",
    "    key=[\"BN\"],\n",
    ")\n",
    "@triton.jit\n",
    "def point_to_hilbert_distance_3d_depth16_fp32_kernel(\n",
    "    xyz_ptr,\n",
    "    distance_ptr,\n",
    "    BN,\n",
    "    space_size,\n",
    "    x_offset,\n",
    "    y_offset,\n",
    "    z_offset,\n",
    "    BLOCK_SIZE: tl.constexpr,\n",
    "):\n",
    "    # load data\n",
    "    pid = tl.program_id(0)\n",
    "    idx_bn = pid * BLOCK_SIZE + tl.arange(0, BLOCK_SIZE)\n",
    "    mask = idx_bn < BN\n",
    "    # TODO no coalescing\n",
    "    fx = tl.load(xyz_ptr + idx_bn * 3 + x_offset, mask=mask)\n",
    "    fy = tl.load(xyz_ptr + idx_bn * 3 + y_offset, mask=mask)\n",
    "    fz = tl.load(xyz_ptr + idx_bn * 3 + z_offset, mask=mask)\n",
    "    x = ((fx + 1) / 2 * space_size).to(tl.uint16)\n",
    "    y = ((fy + 1) / 2 * space_size).to(tl.uint16)\n",
    "    z = ((fz + 1) / 2 * space_size).to(tl.uint16)\n",
    "    x = tl.minimum(tl.maximum(x, 0), space_size - 1)\n",
    "    y = tl.minimum(tl.maximum(y, 0), space_size - 1)\n",
    "    z = tl.minimum(tl.maximum(z, 0), space_size - 1)\n",
    "\n",
    "    # calculate hilbert distance\n",
    "    for i in tl.static_range(15, 0, -1):\n",
    "        q = 1 << i\n",
    "        p = q - 1\n",
    "\n",
    "        # dim = 0\n",
    "        x ^= tl.where(x & q, p, 0)\n",
    "\n",
    "        # dim = 1\n",
    "        cond = y & q\n",
    "        t = (x ^ y) & p\n",
    "        x ^= tl.where(cond, p, t)\n",
    "        y ^= tl.where(cond, 0, t)\n",
    "\n",
    "        # dim = 2\n",
    "        cond = z & q\n",
    "        t = (x ^ z) & p\n",
    "        x ^= tl.where(cond, p, t)\n",
    "        z ^= tl.where(cond, 0, t)\n",
    "\n",
    "    y ^= x\n",
    "    z ^= y\n",
    "\n",
    "    t = 0\n",
    "    for i in tl.static_range(15, 0, -1):\n",
    "        q = 1 << i\n",
    "        t ^= tl.where(z & q, q - 1, 0)\n",
    "\n",
    "    x ^= t\n",
    "    y ^= t\n",
    "    z ^= t\n",
    "\n",
    "    # write results\n",
    "    ret = 0\n",
    "    ix = x.to(tl.int64)\n",
    "    iy = y.to(tl.int64)\n",
    "    iz = z.to(tl.int64)\n",
    "    for i in tl.static_range(0, 16):\n",
    "        q = 1 << i\n",
    "        ret |= (ix & q) << (2 * i + 2)\n",
    "        ret |= (iy & q) << (2 * i + 1)\n",
    "        ret |= (iz & q) << (2 * i + 0)\n",
    "    tl.store(distance_ptr + idx_bn, ret, mask=mask)\n",
    "\n",
    "\n",
    "def point_to_hilbert_distance_3d_depth16_fp32(\n",
    "    xyz: TensorType[\"b\", \"n\", 3, th.float32],\n",
    "    space_size: int,\n",
    "    x_offset: int = 0,\n",
    "    y_offset: int = 1,\n",
    "    z_offset: int = 2,\n",
    "):\n",
    "    B, N = xyz.shape[:2]\n",
    "    distance = xyz.new_empty(B, N, dtype=th.int64)\n",
    "    grid = lambda meta: (triton.cdiv(B * N, meta[\"BLOCK_SIZE\"]),)\n",
    "    point_to_hilbert_distance_3d_depth16_fp32_kernel[grid](xyz, distance, B * N, space_size, x_offset, y_offset, z_offset)\n",
    "    return distance"
   ]
  },
  {
   "cell_type": "code",
   "execution_count": 19,
   "id": "e22f37d8-a165-4e85-aa5c-eab3974c069d",
   "metadata": {},
   "outputs": [
    {
     "data": {
      "text/plain": [
       "tensor([[249734969342285,  54217104344902,  77649582602647,  51814261069439,\n",
       "         256485456173013, 163183121504625, 162995501803388, 179609782756646,\n",
       "         211436275701698,  67351792716901, 172060845137048, 201136052526059,\n",
       "          63279723345690,  79557841743331, 151889812003400, 122849597585030]],\n",
       "       device='cuda:9')"
      ]
     },
     "execution_count": 19,
     "metadata": {},
     "output_type": "execute_result"
    }
   ],
   "source": [
    "out_triton = point_to_hilbert_distance_3d_depth16_fp32(xyz[None], grid_size, 0, 1, 2)\n",
    "out_triton"
   ]
  },
  {
   "cell_type": "code",
   "execution_count": 20,
   "id": "cb704004-b098-475c-9016-af2bc19bb762",
   "metadata": {},
   "outputs": [
    {
     "data": {
      "text/plain": [
       "tensor([249734969342285,  54217104344902,  77649582602647,  51814261069439,\n",
       "        256485456173013, 163183121504625, 162995501803388, 179609782756646,\n",
       "        211436275701698,  67351792716901, 172060845137048, 201136052526059,\n",
       "         63279723345690,  79557841743331, 151889812003400, 122849597585030],\n",
       "       device='cuda:9')"
      ]
     },
     "execution_count": 20,
     "metadata": {},
     "output_type": "execute_result"
    }
   ],
   "source": [
    "out_py = hc.distances_from_points(((xyz + 1) / 2 * grid_size).long().tolist())\n",
    "out_py = th.tensor(out_py, dtype=th.long, device=\"cuda\")\n",
    "out_py"
   ]
  },
  {
   "cell_type": "code",
   "execution_count": 21,
   "id": "2e27e3ba-eb1a-40ab-b5c3-9fa847abbd9d",
   "metadata": {},
   "outputs": [
    {
     "data": {
      "text/plain": [
       "True"
      ]
     },
     "execution_count": 21,
     "metadata": {},
     "output_type": "execute_result"
    }
   ],
   "source": [
    "th.allclose(out_triton, out_py)"
   ]
  },
  {
   "cell_type": "code",
   "execution_count": null,
   "id": "90d2e249-46aa-45f9-b072-0156e333533d",
   "metadata": {},
   "outputs": [],
   "source": []
  }
 ],
 "metadata": {
  "kernelspec": {
   "display_name": "Python 3 (ipykernel)",
   "language": "python",
   "name": "python3"
  },
  "language_info": {
   "codemirror_mode": {
    "name": "ipython",
    "version": 3
   },
   "file_extension": ".py",
   "mimetype": "text/x-python",
   "name": "python",
   "nbconvert_exporter": "python",
   "pygments_lexer": "ipython3",
   "version": "3.10.14"
  }
 },
 "nbformat": 4,
 "nbformat_minor": 5
}
