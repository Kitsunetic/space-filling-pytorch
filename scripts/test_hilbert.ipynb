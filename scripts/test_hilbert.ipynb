{
 "cells": [
  {
   "cell_type": "markdown",
   "id": "3c8fc4bc-9376-4487-a18d-951c23f181b7",
   "metadata": {},
   "source": [
    "hilbert reference: https://github.com/galtay/hilbertcurve/blob/main/hilbertcurve/hilbertcurve.py"
   ]
  },
  {
   "cell_type": "code",
   "execution_count": 1,
   "id": "062392e7-634c-4461-9d0f-a8d599cfe4e8",
   "metadata": {},
   "outputs": [
    {
     "name": "stdout",
     "output_type": "stream",
     "text": [
      "/root/data2/jaehyeok/dev/ddpm/space-filling-pytorch\n"
     ]
    }
   ],
   "source": [
    "%load_ext lab_black\n",
    "%cd .."
   ]
  },
  {
   "cell_type": "code",
   "execution_count": 2,
   "id": "3a4fc6a5-570f-4787-a3f3-b32b4851dcd3",
   "metadata": {},
   "outputs": [],
   "source": [
    "import numpy as np\n",
    "import torch as th\n",
    "\n",
    "from hilbertcurve.hilbertcurve import HilbertCurve"
   ]
  },
  {
   "cell_type": "code",
   "execution_count": 3,
   "id": "f0982d8c-a678-424c-8aaf-6c311c7d5b34",
   "metadata": {},
   "outputs": [],
   "source": [
    "th.cuda.set_device(9)"
   ]
  },
  {
   "cell_type": "code",
   "execution_count": 4,
   "id": "623579da-0b0b-4350-bcd0-3b3068e26863",
   "metadata": {},
   "outputs": [],
   "source": [
    "hc = HilbertCurve(p=16, n=3)"
   ]
  },
  {
   "cell_type": "markdown",
   "id": "f5e61db7-5470-4d95-8dfb-45847d9b17a5",
   "metadata": {},
   "source": [
    "---"
   ]
  },
  {
   "cell_type": "code",
   "execution_count": 8,
   "id": "7c2396f3-f98b-42b5-8e6e-a5c4c3e66207",
   "metadata": {},
   "outputs": [],
   "source": [
    "import torch as th\n",
    "import triton\n",
    "import triton.language as tl\n",
    "from torch import Tensor\n",
    "\n",
    "\n",
    "# @triton.autotune(\n",
    "#     configs=[\n",
    "#         triton.Config({\"BLOCK_SIZE\": 32}),\n",
    "#         triton.Config({\"BLOCK_SIZE\": 64}),\n",
    "#         triton.Config({\"BLOCK_SIZE\": 128}),\n",
    "#         triton.Config({\"BLOCK_SIZE\": 256}),\n",
    "#         triton.Config({\"BLOCK_SIZE\": 512}),\n",
    "#         triton.Config({\"BLOCK_SIZE\": 1024}),\n",
    "#     ],\n",
    "#     key=[\"BN\"],\n",
    "# )\n",
    "@triton.jit\n",
    "def point_to_hilbert_distance_3d_depth16_fp32_kernel(\n",
    "    xyz_ptr,\n",
    "    distance_ptr,\n",
    "    B,\n",
    "    N,\n",
    "    space_size,\n",
    "    x_offset,\n",
    "    y_offset,\n",
    "    z_offset,\n",
    "    str_xyz_B,\n",
    "    str_xyz_N,\n",
    "    str_xyz_C,\n",
    "    BLOCK_SIZE: tl.constexpr,\n",
    "):\n",
    "    pid_b = tl.program_id(0)\n",
    "    pid_n = tl.program_id(1)\n",
    "    offs_n = pid_n * BLOCK_SIZE + tl.arange(0, BLOCK_SIZE)\n",
    "    mask_n = offs_n < N\n",
    "\n",
    "    xyz_ptrs = xyz_ptr + pid_b * str_xyz_B + offs_n * str_xyz_N\n",
    "    fx = tl.load(xyz_ptrs + x_offset * str_xyz_C, mask=mask_n)\n",
    "    fy = tl.load(xyz_ptrs + y_offset * str_xyz_C, mask=mask_n)\n",
    "    fz = tl.load(xyz_ptrs + z_offset * str_xyz_C, mask=mask_n)\n",
    "    x = ((fx + 1) / 2 * space_size).to(tl.int64)\n",
    "    y = ((fy + 1) / 2 * space_size).to(tl.int64)\n",
    "    z = ((fz + 1) / 2 * space_size).to(tl.int64)\n",
    "    x = tl.minimum(tl.maximum(x, 0), space_size - 1)\n",
    "    y = tl.minimum(tl.maximum(y, 0), space_size - 1)\n",
    "    z = tl.minimum(tl.maximum(z, 0), space_size - 1)\n",
    "\n",
    "    # calculate hilbert distance\n",
    "    for i in tl.static_range(15, 0, -1):\n",
    "        q = 1 << i\n",
    "        p = q - 1\n",
    "\n",
    "        # dim = 0\n",
    "        x ^= tl.where(x & q, p, 0)\n",
    "\n",
    "        # dim = 1\n",
    "        cond = y & q\n",
    "        t = (x ^ y) & p\n",
    "        x ^= tl.where(cond, p, t)\n",
    "        y ^= tl.where(cond, 0, t)\n",
    "\n",
    "        # dim = 2\n",
    "        cond = z & q\n",
    "        t = (x ^ z) & p\n",
    "        x ^= tl.where(cond, p, t)\n",
    "        z ^= tl.where(cond, 0, t)\n",
    "\n",
    "    y ^= x\n",
    "    z ^= y\n",
    "\n",
    "    t = 0\n",
    "    for i in tl.static_range(15, 0, -1):\n",
    "        q = 1 << i\n",
    "        t ^= tl.where(z & q, q - 1, 0)\n",
    "\n",
    "    x ^= t\n",
    "    y ^= t\n",
    "    z ^= t\n",
    "\n",
    "    # write results\n",
    "    ret = 0\n",
    "    ix = x.to(tl.int64)\n",
    "    iy = y.to(tl.int64)\n",
    "    iz = z.to(tl.int64)\n",
    "    for i in tl.static_range(0, 16):\n",
    "        q = 1 << i\n",
    "        ret |= (ix & q) << (2 * i + 2)\n",
    "        ret |= (iy & q) << (2 * i + 1)\n",
    "        ret |= (iz & q) << (2 * i + 0)\n",
    "    tl.store(distance_ptr + pid_b * N + offs_n, ret, mask=mask_n)\n",
    "\n",
    "\n",
    "def point_to_hilbert_distance_3d_depth16_fp32(\n",
    "    xyz: Tensor,\n",
    "    space_size: int,\n",
    "    x_offset: int = 0,\n",
    "    y_offset: int = 1,\n",
    "    z_offset: int = 2,\n",
    "):\n",
    "    assert xyz.ndim == 3, xyz.shape\n",
    "    assert xyz.size(-1) == 3, xyz.shape\n",
    "    B, N = xyz.shape[:2]\n",
    "\n",
    "    distance = xyz.new_empty(B, N, dtype=th.int64)\n",
    "    grid = lambda meta: (B, triton.cdiv(N, meta[\"BLOCK_SIZE\"]))\n",
    "    BLOCK_SIZE = max(32, min(4096, triton.next_power_of_2(N)))\n",
    "    point_to_hilbert_distance_3d_depth16_fp32_kernel[grid](\n",
    "        xyz, distance, B, N, space_size, x_offset, y_offset, z_offset, *xyz.stride(), BLOCK_SIZE=BLOCK_SIZE\n",
    "    )\n",
    "    return distance"
   ]
  },
  {
   "cell_type": "markdown",
   "id": "87613922-01b5-4a8c-a1d6-d6c2a34837f0",
   "metadata": {},
   "source": [
    "### normal case"
   ]
  },
  {
   "cell_type": "code",
   "execution_count": 5,
   "id": "ef81ce72-cd1e-409d-afec-1f7df36e8e54",
   "metadata": {},
   "outputs": [],
   "source": [
    "xyz = th.rand(16, 3, device=\"cuda\") * 2 - 1\n",
    "grid_size = 2**16"
   ]
  },
  {
   "cell_type": "code",
   "execution_count": 9,
   "id": "e22f37d8-a165-4e85-aa5c-eab3974c069d",
   "metadata": {},
   "outputs": [
    {
     "data": {
      "text/plain": [
       "tensor([[258231785164072, 212517114602602,  58786499875948, 266201698086664,\n",
       "         183531218930183,  64396367564015, 266752014750580, 213771605597384,\n",
       "         169135245247050, 177550075639114,   7792072388023, 180642536337635,\n",
       "         124871685996817, 240425110504537, 224657391221628, 258039012609172]],\n",
       "       device='cuda:9')"
      ]
     },
     "execution_count": 9,
     "metadata": {},
     "output_type": "execute_result"
    }
   ],
   "source": [
    "out_triton = point_to_hilbert_distance_3d_depth16_fp32(xyz[None], grid_size, 0, 1, 2)\n",
    "out_triton"
   ]
  },
  {
   "cell_type": "code",
   "execution_count": 10,
   "id": "cb704004-b098-475c-9016-af2bc19bb762",
   "metadata": {},
   "outputs": [
    {
     "data": {
      "text/plain": [
       "tensor([258231785164072, 212517114602602,  58786499875948, 266201698086664,\n",
       "        183531218930183,  64396367564015, 266752014750580, 213771605597384,\n",
       "        169135245247050, 177550075639114,   7792072388023, 180642536337635,\n",
       "        124871685996817, 240425110504537, 224657391221628, 258039012609172],\n",
       "       device='cuda:9')"
      ]
     },
     "execution_count": 10,
     "metadata": {},
     "output_type": "execute_result"
    }
   ],
   "source": [
    "out_py = hc.distances_from_points(((xyz + 1) / 2 * grid_size).long().tolist())\n",
    "out_py = th.tensor(out_py, dtype=th.long, device=\"cuda\")\n",
    "out_py"
   ]
  },
  {
   "cell_type": "code",
   "execution_count": 11,
   "id": "2e27e3ba-eb1a-40ab-b5c3-9fa847abbd9d",
   "metadata": {},
   "outputs": [
    {
     "data": {
      "text/plain": [
       "True"
      ]
     },
     "execution_count": 11,
     "metadata": {},
     "output_type": "execute_result"
    }
   ],
   "source": [
    "th.allclose(out_triton, out_py)"
   ]
  },
  {
   "cell_type": "markdown",
   "id": "a5f019a4-31fb-4506-9586-050e884e81cd",
   "metadata": {},
   "source": [
    "### not contiguous"
   ]
  },
  {
   "cell_type": "code",
   "execution_count": 12,
   "id": "8260d490-ebf7-4b1f-b6e6-8b2231f14b41",
   "metadata": {},
   "outputs": [],
   "source": [
    "xyz = th.rand(3, 16, device=\"cuda\") * 2 - 1\n",
    "xyz = xyz.transpose(-1, -2)\n",
    "grid_size = 2**16"
   ]
  },
  {
   "cell_type": "code",
   "execution_count": 13,
   "id": "1dbff26c-198e-408b-8e58-471cb74e0aec",
   "metadata": {},
   "outputs": [
    {
     "data": {
      "text/plain": [
       "tensor([[ 94791694961386, 277966527823171, 225905588937225,  57417679525688,\n",
       "          57516499179814, 275905813037254, 204058071454300, 105123823941934,\n",
       "         117143196653620, 104050056909522, 270272483418603, 172449515147779,\n",
       "          73908793925114, 128131284997037,  34824783961941, 114819297829294]],\n",
       "       device='cuda:9')"
      ]
     },
     "execution_count": 13,
     "metadata": {},
     "output_type": "execute_result"
    }
   ],
   "source": [
    "out_triton = point_to_hilbert_distance_3d_depth16_fp32(xyz[None], grid_size, 0, 1, 2)\n",
    "out_triton"
   ]
  },
  {
   "cell_type": "code",
   "execution_count": 14,
   "id": "e4baa1e1-a0bd-4033-b5b8-ec79b0b8881e",
   "metadata": {},
   "outputs": [
    {
     "data": {
      "text/plain": [
       "tensor([ 94791694961386, 277966527823171, 225905588937225,  57417679525688,\n",
       "         57516499179814, 275905813037254, 204058071454300, 105123823941934,\n",
       "        117143196653620, 104050056909522, 270272483418603, 172449515147779,\n",
       "         73908793925114, 128131284997037,  34824783961941, 114819297829294],\n",
       "       device='cuda:9')"
      ]
     },
     "execution_count": 14,
     "metadata": {},
     "output_type": "execute_result"
    }
   ],
   "source": [
    "out_py = hc.distances_from_points(((xyz + 1) / 2 * grid_size).long().tolist())\n",
    "out_py = th.tensor(out_py, dtype=th.long, device=\"cuda\")\n",
    "out_py"
   ]
  },
  {
   "cell_type": "code",
   "execution_count": 15,
   "id": "201865b9-ad03-4164-bbc0-7c2bee91eae0",
   "metadata": {},
   "outputs": [
    {
     "data": {
      "text/plain": [
       "True"
      ]
     },
     "execution_count": 15,
     "metadata": {},
     "output_type": "execute_result"
    }
   ],
   "source": [
    "th.allclose(out_triton, out_py)"
   ]
  },
  {
   "cell_type": "markdown",
   "id": "e9be56d0-3449-4a68-9381-62e292ea1e49",
   "metadata": {},
   "source": [
    "# Benchmark"
   ]
  },
  {
   "cell_type": "code",
   "execution_count": 16,
   "id": "90d2e249-46aa-45f9-b072-0156e333533d",
   "metadata": {},
   "outputs": [],
   "source": [
    "def hilbert(xyz_batched, grid_size):\n",
    "    outs = []\n",
    "    for xyz in xyz_batched:\n",
    "        out = hc.distances_from_points(((xyz + 1) / 2 * grid_size).long().tolist())\n",
    "        out = th.tensor(out, dtype=th.long, device=\"cuda\")\n",
    "        outs.append(out)\n",
    "\n",
    "    return th.stack(outs)"
   ]
  },
  {
   "cell_type": "code",
   "execution_count": 18,
   "id": "b3b1cea5-57dc-4b77-8980-b0b5521a3835",
   "metadata": {},
   "outputs": [
    {
     "data": {
      "image/png": "[encoded data removed]",
      "text/plain": [
       "<Figure size 640x480 with 1 Axes>"
      ]
     },
     "metadata": {},
     "output_type": "display_data"
    },
    {
     "name": "stdout",
     "output_type": "stream",
     "text": [
      "a:\n",
      "        N     Triton     Torch\n",
      "0    32.0   1.200000  0.000401\n",
      "1    64.0   2.400000  0.000416\n",
      "2   128.0   4.800000  0.000432\n",
      "3   256.0   8.000000  0.000427\n",
      "4   512.0  13.714286  0.000419\n",
      "5  1024.0  17.454545  0.000422\n",
      "6  2048.0  19.200000  0.000427\n"
     ]
    }
   ],
   "source": [
    "@triton.testing.perf_report(\n",
    "    triton.testing.Benchmark(\n",
    "        x_names=[\"N\"],\n",
    "        x_vals=[16 * 2**i for i in range(1, 8)],\n",
    "        x_log=False,\n",
    "        line_arg=\"provider\",\n",
    "        line_vals=[\"triton\", \"torch\"],\n",
    "        line_names=[\"Triton\", \"Torch\"],\n",
    "        styles=[(\"blue\", \"-\"), (\"green\", \"-\")],\n",
    "        ylabel=\"GB/s\",\n",
    "        plot_name=\"a\",\n",
    "        args={\"B\": 16},\n",
    "    )\n",
    ")\n",
    "def benchmark(B, N, provider):\n",
    "    x = th.rand(B, N, 3, device=\"cuda\")\n",
    "    grid_size = 256\n",
    "\n",
    "    quantiles = [0.5, 0.2, 0.8]\n",
    "    if provider == \"torch\":\n",
    "        ms, min_ms, max_ms = triton.testing.do_bench(\n",
    "            lambda: hilbert(x, grid_size),\n",
    "            quantiles=quantiles,\n",
    "        )\n",
    "    elif provider == \"triton\":\n",
    "        ms, min_ms, max_ms = triton.testing.do_bench(\n",
    "            lambda: point_to_hilbert_distance_3d_depth16_fp32(x, grid_size),\n",
    "            quantiles=quantiles,\n",
    "        )\n",
    "\n",
    "    gbps = lambda ms: (x.nelement() * x.element_size()) * 1e-9 / (ms * 1e-3)\n",
    "    return gbps(ms), gbps(max_ms), gbps(min_ms)\n",
    "\n",
    "\n",
    "benchmark.run(show_plots=True, print_data=True)"
   ]
  },
  {
   "cell_type": "code",
   "execution_count": null,
   "id": "1a18e735-085e-4de9-aef3-18e48449f455",
   "metadata": {},
   "outputs": [],
   "source": []
  }
 ],
 "metadata": {
  "kernelspec": {
   "display_name": "Python 3 (ipykernel)",
   "language": "python",
   "name": "python3"
  },
  "language_info": {
   "codemirror_mode": {
    "name": "ipython",
    "version": 3
   },
   "file_extension": ".py",
   "mimetype": "text/x-python",
   "name": "python",
   "nbconvert_exporter": "python",
   "pygments_lexer": "ipython3",
   "version": "3.10.14"
  }
 },
 "nbformat": 4,
 "nbformat_minor": 5
}
