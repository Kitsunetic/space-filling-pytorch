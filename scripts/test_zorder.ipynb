{
 "cells": [
  {
   "cell_type": "markdown",
   "id": "019de768-a3f0-4ece-b265-05e718b88d35",
   "metadata": {},
   "source": [
    "z-order reference: https://github.com/Pointcept/PointTransformerV3/blob/main/serialization/z_order.py"
   ]
  },
  {
   "cell_type": "code",
   "execution_count": 1,
   "id": "9edb8b2f-f6e1-4b35-9519-0e3853beea22",
   "metadata": {},
   "outputs": [
    {
     "name": "stdout",
     "output_type": "stream",
     "text": [
      "/root/data2/jaehyeok/dev/ddpm/space-filling-pytorch\n"
     ]
    }
   ],
   "source": [
    "%load_ext lab_black\n",
    "%cd .."
   ]
  },
  {
   "cell_type": "code",
   "execution_count": 2,
   "id": "624c98b4-aba9-41ea-818c-244711002c60",
   "metadata": {},
   "outputs": [],
   "source": [
    "import torch as th"
   ]
  },
  {
   "cell_type": "code",
   "execution_count": 3,
   "id": "b6e1a73d-bccf-406b-97dd-bdf836c5c2f2",
   "metadata": {},
   "outputs": [],
   "source": [
    "th.cuda.set_device(9)"
   ]
  },
  {
   "cell_type": "code",
   "execution_count": 4,
   "id": "7332fa82-0a21-4446-b87d-342bcc2c58de",
   "metadata": {},
   "outputs": [],
   "source": [
    "# --------------------------------------------------------\n",
    "# Octree-based Sparse Convolutional Neural Networks\n",
    "# Copyright (c) 2022 Peng-Shuai Wang <wangps@hotmail.com>\n",
    "# Licensed under The MIT License [see LICENSE for details]\n",
    "# Written by Peng-Shuai Wang\n",
    "# --------------------------------------------------------\n",
    "\n",
    "import torch\n",
    "from typing import Optional, Union\n",
    "\n",
    "\n",
    "class KeyLUT:\n",
    "    def __init__(self):\n",
    "        r256 = torch.arange(256, dtype=torch.int64)\n",
    "        r512 = torch.arange(512, dtype=torch.int64)\n",
    "        zero = torch.zeros(256, dtype=torch.int64)\n",
    "        device = torch.device(\"cpu\")\n",
    "\n",
    "        self._encode = {\n",
    "            device: (\n",
    "                self.xyz2key(r256, zero, zero, 8),\n",
    "                self.xyz2key(zero, r256, zero, 8),\n",
    "                self.xyz2key(zero, zero, r256, 8),\n",
    "            )\n",
    "        }\n",
    "        self._decode = {device: self.key2xyz(r512, 9)}\n",
    "\n",
    "    def encode_lut(self, device=torch.device(\"cpu\")):\n",
    "        if device not in self._encode:\n",
    "            cpu = torch.device(\"cpu\")\n",
    "            self._encode[device] = tuple(e.to(device) for e in self._encode[cpu])\n",
    "        return self._encode[device]\n",
    "\n",
    "    def decode_lut(self, device=torch.device(\"cpu\")):\n",
    "        if device not in self._decode:\n",
    "            cpu = torch.device(\"cpu\")\n",
    "            self._decode[device] = tuple(e.to(device) for e in self._decode[cpu])\n",
    "        return self._decode[device]\n",
    "\n",
    "    def xyz2key(self, x, y, z, depth):\n",
    "        key = torch.zeros_like(x)\n",
    "        for i in range(depth):\n",
    "            mask = 1 << i\n",
    "            key = key | ((x & mask) << (2 * i + 2)) | ((y & mask) << (2 * i + 1)) | ((z & mask) << (2 * i + 0))\n",
    "        return key\n",
    "\n",
    "    def key2xyz(self, key, depth):\n",
    "        x = torch.zeros_like(key)\n",
    "        y = torch.zeros_like(key)\n",
    "        z = torch.zeros_like(key)\n",
    "        for i in range(depth):\n",
    "            x = x | ((key & (1 << (3 * i + 2))) >> (2 * i + 2))\n",
    "            y = y | ((key & (1 << (3 * i + 1))) >> (2 * i + 1))\n",
    "            z = z | ((key & (1 << (3 * i + 0))) >> (2 * i + 0))\n",
    "        return x, y, z\n",
    "\n",
    "\n",
    "_key_lut = KeyLUT()\n",
    "\n",
    "\n",
    "def xyz2key(\n",
    "    x: torch.Tensor,\n",
    "    y: torch.Tensor,\n",
    "    z: torch.Tensor,\n",
    "    b: Optional[Union[torch.Tensor, int]] = None,\n",
    "    depth: int = 16,\n",
    "):\n",
    "    r\"\"\"Encodes :attr:`x`, :attr:`y`, :attr:`z` coordinates to the shuffled keys\n",
    "    based on pre-computed look up tables. The speed of this function is much\n",
    "    faster than the method based on for-loop.\n",
    "\n",
    "    Args:\n",
    "      x (torch.Tensor): The x coordinate.\n",
    "      y (torch.Tensor): The y coordinate.\n",
    "      z (torch.Tensor): The z coordinate.\n",
    "      b (torch.Tensor or int): The batch index of the coordinates, and should be\n",
    "          smaller than 32768. If :attr:`b` is :obj:`torch.Tensor`, the size of\n",
    "          :attr:`b` must be the same as :attr:`x`, :attr:`y`, and :attr:`z`.\n",
    "      depth (int): The depth of the shuffled key, and must be smaller than 17 (< 17).\n",
    "    \"\"\"\n",
    "\n",
    "    EX, EY, EZ = _key_lut.encode_lut(x.device)\n",
    "    x, y, z = x.long(), y.long(), z.long()\n",
    "\n",
    "    mask = 255 if depth > 8 else (1 << depth) - 1\n",
    "    key = EX[x & mask] | EY[y & mask] | EZ[z & mask]\n",
    "    if depth > 8:\n",
    "        mask = (1 << (depth - 8)) - 1\n",
    "        key16 = EX[(x >> 8) & mask] | EY[(y >> 8) & mask] | EZ[(z >> 8) & mask]\n",
    "        key = key16 << 24 | key\n",
    "\n",
    "    if b is not None:\n",
    "        b = b.long()\n",
    "        key = b << 48 | key\n",
    "\n",
    "    return key\n",
    "\n",
    "\n",
    "def key2xyz(key: torch.Tensor, depth: int = 16):\n",
    "    r\"\"\"Decodes the shuffled key to :attr:`x`, :attr:`y`, :attr:`z` coordinates\n",
    "    and the batch index based on pre-computed look up tables.\n",
    "\n",
    "    Args:\n",
    "      key (torch.Tensor): The shuffled key.\n",
    "      depth (int): The depth of the shuffled key, and must be smaller than 17 (< 17).\n",
    "    \"\"\"\n",
    "\n",
    "    DX, DY, DZ = _key_lut.decode_lut(key.device)\n",
    "    x, y, z = torch.zeros_like(key), torch.zeros_like(key), torch.zeros_like(key)\n",
    "\n",
    "    b = key >> 48\n",
    "    key = key & ((1 << 48) - 1)\n",
    "\n",
    "    n = (depth + 2) // 3\n",
    "    for i in range(n):\n",
    "        k = key >> (i * 9) & 511\n",
    "        x = x | (DX[k] << (i * 3))\n",
    "        y = y | (DY[k] << (i * 3))\n",
    "        z = z | (DZ[k] << (i * 3))\n",
    "\n",
    "    return x, y, z, b"
   ]
  },
  {
   "cell_type": "code",
   "execution_count": 5,
   "id": "9089bdcf-d506-4705-9dc6-12e4abec1ee1",
   "metadata": {},
   "outputs": [],
   "source": [
    "from typing import Tuple\n",
    "\n",
    "import torch as th\n",
    "import triton\n",
    "import triton.language as tl\n",
    "from torch import Tensor\n",
    "\n",
    "\n",
    "# @triton.autotune(\n",
    "#     configs=[\n",
    "#         triton.Config({\"BLOCK_SIZE\": 32}),\n",
    "#         triton.Config({\"BLOCK_SIZE\": 64}),\n",
    "#         triton.Config({\"BLOCK_SIZE\": 128}),\n",
    "#         triton.Config({\"BLOCK_SIZE\": 256}),\n",
    "#         triton.Config({\"BLOCK_SIZE\": 512}),\n",
    "#         triton.Config({\"BLOCK_SIZE\": 1024}),\n",
    "#     ],\n",
    "#     key=[\"BN\"],\n",
    "# )\n",
    "@triton.jit\n",
    "def point_to_zorder_3d_depth16_fp32_kernel(\n",
    "    xyz_ptr,\n",
    "    distance_ptr,\n",
    "    B,\n",
    "    N,\n",
    "    space_size,\n",
    "    x_offset,\n",
    "    y_offset,\n",
    "    z_offset,\n",
    "    str_xyz_B,\n",
    "    str_xyz_N,\n",
    "    str_xyz_C,\n",
    "    BLOCK_SIZE: tl.constexpr,\n",
    "):\n",
    "    pid_b = tl.program_id(0)\n",
    "    pid_n = tl.program_id(1)\n",
    "    offs_n = pid_n * BLOCK_SIZE + tl.arange(0, BLOCK_SIZE)\n",
    "    mask_n = offs_n < N\n",
    "\n",
    "    xyz_ptrs = xyz_ptr + pid_b * str_xyz_B + offs_n * str_xyz_N\n",
    "    fx = tl.load(xyz_ptrs + x_offset * str_xyz_C, mask=mask_n)\n",
    "    fy = tl.load(xyz_ptrs + y_offset * str_xyz_C, mask=mask_n)\n",
    "    fz = tl.load(xyz_ptrs + z_offset * str_xyz_C, mask=mask_n)\n",
    "    x = ((fx + 1) / 2 * space_size).to(tl.int64)\n",
    "    y = ((fy + 1) / 2 * space_size).to(tl.int64)\n",
    "    z = ((fz + 1) / 2 * space_size).to(tl.int64)\n",
    "    x = tl.minimum(tl.maximum(x, 0), space_size - 1)\n",
    "    y = tl.minimum(tl.maximum(y, 0), space_size - 1)\n",
    "    z = tl.minimum(tl.maximum(z, 0), space_size - 1)\n",
    "\n",
    "    # calculate z-order\n",
    "    ret = 0\n",
    "    for i in tl.static_range(0, 16):\n",
    "        q = 1 << i\n",
    "        ret |= (x & q) << (2 * i + 2)\n",
    "        ret |= (y & q) << (2 * i + 1)\n",
    "        ret |= (z & q) << (2 * i + 0)\n",
    "\n",
    "    # write results\n",
    "    tl.store(distance_ptr + pid_b * N + offs_n, ret, mask=mask_n)\n",
    "\n",
    "\n",
    "def point_to_zorder_3d_depth16_fp32(\n",
    "    xyz: Tensor,\n",
    "    space_size: int,\n",
    "    x_offset: int = 0,\n",
    "    y_offset: int = 1,\n",
    "    z_offset: int = 2,\n",
    "):\n",
    "    assert xyz.ndim == 3, xyz.shape\n",
    "    assert xyz.size(-1) == 3, xyz.shape\n",
    "    B, N = xyz.shape[:2]\n",
    "\n",
    "    distance = xyz.new_empty(B, N, dtype=th.int64)\n",
    "    grid = lambda meta: (B, triton.cdiv(N, meta[\"BLOCK_SIZE\"]))\n",
    "    BLOCK_SIZE = max(32, min(4096, triton.next_power_of_2(N)))\n",
    "    point_to_zorder_3d_depth16_fp32_kernel[grid](\n",
    "        xyz, distance, B, N, space_size, x_offset, y_offset, z_offset, *xyz.stride(), BLOCK_SIZE=BLOCK_SIZE\n",
    "    )\n",
    "    return distance"
   ]
  },
  {
   "cell_type": "code",
   "execution_count": 15,
   "id": "e190d766-d88f-4447-9c89-90dc053b45d0",
   "metadata": {},
   "outputs": [],
   "source": [
    "xyz = th.rand(3, 16, device=\"cuda\") * 2 - 1\n",
    "grid_size = 2**16"
   ]
  },
  {
   "cell_type": "code",
   "execution_count": 10,
   "id": "7cd36707-ed4b-4321-bb28-48a75fb430c5",
   "metadata": {},
   "outputs": [],
   "source": [
    "z_order_triton = point_to_zorder_3d_depth16_fp32(xyz[None], grid_size, 0, 1, 2)\n",
    "# z_order_triton"
   ]
  },
  {
   "cell_type": "code",
   "execution_count": 11,
   "id": "5125e582-fa6d-4138-a22f-ce92053514e6",
   "metadata": {},
   "outputs": [],
   "source": [
    "grid_coord = ((xyz + 1) / 2 * grid_size).long()\n",
    "x, y, z = grid_coord[:, 0].long(), grid_coord[:, 1].long(), grid_coord[:, 2].long()\n",
    "z_order_ptv3 = xyz2key(x, y, z)\n",
    "# z_order_ptv3"
   ]
  },
  {
   "cell_type": "code",
   "execution_count": 9,
   "id": "567c6b6b-bdd6-444d-a91d-99629a7e8d51",
   "metadata": {},
   "outputs": [
    {
     "data": {
      "text/plain": [
       "True"
      ]
     },
     "execution_count": 9,
     "metadata": {},
     "output_type": "execute_result"
    }
   ],
   "source": [
    "th.allclose(z_order_triton, z_order_ptv3)"
   ]
  },
  {
   "cell_type": "markdown",
   "id": "aaaa7bb5-74ce-46d7-99c4-30c75e28f6f3",
   "metadata": {},
   "source": [
    "### When not contiguous"
   ]
  },
  {
   "cell_type": "code",
   "execution_count": 18,
   "id": "b4865e91-93c3-416e-af1a-db641d442fdc",
   "metadata": {},
   "outputs": [],
   "source": [
    "xyz = th.rand(3, 16, device=\"cuda\") * 2 - 1\n",
    "xyz = xyz.transpose(-1, -2)\n",
    "grid_size = 2**16"
   ]
  },
  {
   "cell_type": "code",
   "execution_count": 21,
   "id": "ee9fadb3-083b-4d19-a21a-31771f7b2754",
   "metadata": {},
   "outputs": [
    {
     "data": {
      "text/plain": [
       "False"
      ]
     },
     "execution_count": 21,
     "metadata": {},
     "output_type": "execute_result"
    }
   ],
   "source": [
    "xyz.is_contiguous()"
   ]
  },
  {
   "cell_type": "code",
   "execution_count": 19,
   "id": "403f2c76-4d95-42a6-9db3-087db6bd79fd",
   "metadata": {},
   "outputs": [],
   "source": [
    "z_order_triton = point_to_zorder_3d_depth16_fp32(xyz[None], grid_size, 0, 1, 2)\n",
    "# z_order_triton"
   ]
  },
  {
   "cell_type": "code",
   "execution_count": 20,
   "id": "66fae0c8-8adb-4ffa-b8ef-5d79975502ec",
   "metadata": {},
   "outputs": [],
   "source": [
    "grid_coord = ((xyz + 1) / 2 * grid_size).long()\n",
    "x, y, z = grid_coord[:, 0].long(), grid_coord[:, 1].long(), grid_coord[:, 2].long()\n",
    "z_order_ptv3 = xyz2key(x, y, z)\n",
    "# z_order_ptv3"
   ]
  },
  {
   "cell_type": "code",
   "execution_count": 22,
   "id": "f213b504-9e6d-4d45-b852-241742bed25e",
   "metadata": {},
   "outputs": [
    {
     "data": {
      "text/plain": [
       "True"
      ]
     },
     "execution_count": 22,
     "metadata": {},
     "output_type": "execute_result"
    }
   ],
   "source": [
    "th.allclose(z_order_triton, z_order_ptv3)"
   ]
  },
  {
   "cell_type": "markdown",
   "id": "1387c368-88b7-48ec-a798-6f6f269ac458",
   "metadata": {},
   "source": [
    "# Large Scale Test"
   ]
  },
  {
   "cell_type": "code",
   "execution_count": 23,
   "id": "1e549f3f-4842-47fb-be03-f270fa9afd0d",
   "metadata": {},
   "outputs": [],
   "source": [
    "xyz = th.rand(32768, 3, device=\"cuda\") * 2 - 1\n",
    "grid_size = 2**16"
   ]
  },
  {
   "cell_type": "code",
   "execution_count": 24,
   "id": "083098df-9afd-43e3-84a1-3888fdcc9ddf",
   "metadata": {},
   "outputs": [
    {
     "data": {
      "text/plain": [
       "tensor([[173720110494883, 240318874057055,  85059949043253,  ...,\n",
       "          36575129060699,  92153334008178, 179067741365104]], device='cuda:9')"
      ]
     },
     "execution_count": 24,
     "metadata": {},
     "output_type": "execute_result"
    }
   ],
   "source": [
    "z_order_triton = point_to_zorder_3d_depth16_fp32(xyz[None], grid_size, 0, 1, 2)\n",
    "z_order_triton"
   ]
  },
  {
   "cell_type": "code",
   "execution_count": 25,
   "id": "6dd4528d-2e03-4117-bae8-00c053ac169e",
   "metadata": {},
   "outputs": [
    {
     "data": {
      "text/plain": [
       "tensor([173720110494883, 240318874057055,  85059949043253,  ...,\n",
       "         36575129060699,  92153334008178, 179067741365104], device='cuda:9')"
      ]
     },
     "execution_count": 25,
     "metadata": {},
     "output_type": "execute_result"
    }
   ],
   "source": [
    "grid_coord = ((xyz + 1) / 2 * grid_size).long()\n",
    "x, y, z = grid_coord[:, 0].long(), grid_coord[:, 1].long(), grid_coord[:, 2].long()\n",
    "z_order_ptv3 = xyz2key(x, y, z)\n",
    "z_order_ptv3"
   ]
  },
  {
   "cell_type": "code",
   "execution_count": 26,
   "id": "50c3e2c8-935b-495c-badc-13b841a56eb5",
   "metadata": {},
   "outputs": [
    {
     "data": {
      "text/plain": [
       "True"
      ]
     },
     "execution_count": 26,
     "metadata": {},
     "output_type": "execute_result"
    }
   ],
   "source": [
    "th.allclose(z_order_triton, z_order_ptv3)"
   ]
  },
  {
   "cell_type": "markdown",
   "id": "19ee9b90-7652-46f6-891e-7123071a9f38",
   "metadata": {},
   "source": [
    "# Benchmark"
   ]
  },
  {
   "cell_type": "code",
   "execution_count": 29,
   "id": "a26b460d-1943-4197-b6dc-b962e3e0e87c",
   "metadata": {},
   "outputs": [],
   "source": [
    "def z_order_ptv3(xyz_batched, grid_size):\n",
    "    outs = []\n",
    "    for xyz in xyz_batched:\n",
    "        xyz = ((xyz + 1) / 2 * grid_size).long()\n",
    "        outs.append(xyz2key(xyz[:, 0], xyz[:, 1], xyz[:, 2]))\n",
    "    out = th.stack(outs)\n",
    "    return out"
   ]
  },
  {
   "cell_type": "code",
   "execution_count": 30,
   "id": "80149f82-6ddc-40b3-808f-22758e91f46f",
   "metadata": {},
   "outputs": [
    {
     "data": {
      "image/png": "[encoded data removed]",
      "text/plain": [
       "<Figure size 640x480 with 1 Axes>"
      ]
     },
     "metadata": {},
     "output_type": "display_data"
    },
    {
     "name": "stdout",
     "output_type": "stream",
     "text": [
      "a:\n",
      "           N      Triton      Torch\n",
      "0       32.0    1.500000   0.001834\n",
      "1       64.0    2.400000   0.003633\n",
      "2      128.0    4.800000   0.007254\n",
      "3      256.0   12.000000   0.014324\n",
      "4      512.0   19.200000   0.028760\n",
      "5     1024.0   38.400001   0.057356\n",
      "6     2048.0   42.666665   0.115298\n",
      "7     4096.0   40.421054   0.231186\n",
      "8     8192.0   85.333330   0.463069\n",
      "9    16384.0  161.684218   0.928798\n",
      "10   32768.0  245.760006   1.849488\n",
      "11   65536.0  273.066663   3.701205\n",
      "12  131072.0  296.096389   7.299079\n",
      "13  262144.0  307.200008  13.812561\n",
      "14  524288.0  315.076934  13.193397\n"
     ]
    }
   ],
   "source": [
    "@triton.testing.perf_report(\n",
    "    triton.testing.Benchmark(\n",
    "        x_names=[\"N\"],\n",
    "        x_vals=[16 * 2**i for i in range(1, 16)],\n",
    "        x_log=False,\n",
    "        line_arg=\"provider\",\n",
    "        line_vals=[\"triton\", \"torch\"],\n",
    "        line_names=[\"Triton\", \"Torch\"],\n",
    "        styles=[(\"blue\", \"-\"), (\"green\", \"-\")],\n",
    "        ylabel=\"GB/s\",\n",
    "        plot_name=\"a\",\n",
    "        args={\"B\": 16},\n",
    "    )\n",
    ")\n",
    "def benchmark(B, N, provider):\n",
    "    x = th.rand(B, N, 3, device=\"cuda\")\n",
    "    grid_size = 256\n",
    "\n",
    "    quantiles = [0.5, 0.2, 0.8]\n",
    "    if provider == \"torch\":\n",
    "        ms, min_ms, max_ms = triton.testing.do_bench(\n",
    "            lambda: z_order_ptv3(x, grid_size),\n",
    "            quantiles=quantiles,\n",
    "        )\n",
    "    elif provider == \"triton\":\n",
    "        ms, min_ms, max_ms = triton.testing.do_bench(\n",
    "            lambda: point_to_zorder_3d_depth16_fp32(x, grid_size),\n",
    "            quantiles=quantiles,\n",
    "        )\n",
    "\n",
    "    gbps = lambda ms: (x.nelement() * x.element_size()) * 1e-9 / (ms * 1e-3)\n",
    "    return gbps(ms), gbps(max_ms), gbps(min_ms)\n",
    "\n",
    "\n",
    "benchmark.run(show_plots=True, print_data=True)"
   ]
  },
  {
   "cell_type": "code",
   "execution_count": null,
   "id": "8d73db95-71e1-4d26-bc6d-28b4f5ea8fc1",
   "metadata": {},
   "outputs": [],
   "source": []
  }
 ],
 "metadata": {
  "kernelspec": {
   "display_name": "Python 3 (ipykernel)",
   "language": "python",
   "name": "python3"
  },
  "language_info": {
   "codemirror_mode": {
    "name": "ipython",
    "version": 3
   },
   "file_extension": ".py",
   "mimetype": "text/x-python",
   "name": "python",
   "nbconvert_exporter": "python",
   "pygments_lexer": "ipython3",
   "version": "3.10.14"
  }
 },
 "nbformat": 4,
 "nbformat_minor": 5
}
